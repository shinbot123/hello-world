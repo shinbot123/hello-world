{
 "cells": [
  {
   "cell_type": "code",
   "execution_count": 10,
   "metadata": {},
   "outputs": [],
   "source": [
    "import ms.version\n",
    "\n",
    "ms.version.addpkg('numpy', '1.14.2')\n",
    "ms.version.addpkg('pandas', '0.22.0')\n",
    "ms.version.addpkg('dateutil', '2.7.2')\n",
    "ms.version.addpkg('six', '1.11.0-ms1')\n",
    "ms.version.addpkg('pytz', '2017.3')\n",
    "ms.version.addpkg('matplotlib', '2.2.2')\n",
    "ms.version.addpkg('pyparsing', '2.2.0')\n",
    "ms.version.addpkg('cycler', '0.10.0')\n",
    "ms.version.addpkg('kiwisolver', '1.0.1')\n",
    "ms.version.addpkg('scipy', '1.0.0')\n",
    "ms.version.addpkg('sklearn', '0.19b2')\n"
   ]
  },
  {
   "cell_type": "code",
   "execution_count": 11,
   "metadata": {},
   "outputs": [
    {
     "name": "stdout",
     "output_type": "stream",
     "text": [
      "(200, 1)\n",
      "(200, 1)\n"
     ]
    }
   ],
   "source": [
    "import numpy as np\n",
    "import matplotlib.pyplot as plt\n",
    "import sklearn\n",
    "from sklearn.linear_model import LinearRegression\n",
    "#import sklearn.metrics\n",
    "import csv\n",
    "import pandas as pd\n",
    "from sklearn.preprocessing import PolynomialFeatures\n",
    "from sklearn.pipeline import Pipeline\n",
    "dataarrayx = pd.read_csv(\"datax.csv\").values.tolist()\n",
    "dataarrayy = pd.read_csv(\"datay.csv\").values.tolist()\n",
    "print(np.shape(dataarrayx))\n",
    "print(np.shape(dataarrayy))"
   ]
  },
  {
   "cell_type": "code",
   "execution_count": 12,
   "metadata": {},
   "outputs": [],
   "source": [
    "from sklearn.linear_model import LinearRegression\n",
    " # create samples\n",
    "sample_size = 30\n",
    "err_sigma = 0.1\n",
    "x = np.random.rand(sample_size, 1)\n",
    "err = err_sigma*np.random.randn(sample_size, 1)\n",
    "y = 3 * x + 1 + err\n",
    "# train a linear regression model\n",
    "regr = LinearRegression()\n",
    "regr.fit(dataarrayx, dataarrayy)\n",
    "x = dataarrayx\n",
    "y = dataarrayy\n",
    "\n",
    "# make predictions\n",
    "xt = np.linspace(0.0, 1.0, num=1000).reshape((1000, 1))\n",
    "yt = regr.predict(xt)\n",
    "predy = regr.predict(x)"
   ]
  },
  {
   "cell_type": "code",
   "execution_count": 16,
   "metadata": {},
   "outputs": [
    {
     "name": "stdout",
     "output_type": "stream",
     "text": [
      "0.09976075751244444\n"
     ]
    },
    {
     "data": {
      "image/png": "[encoded data removed]",
      "text/plain": [
       "<Figure size 432x288 with 1 Axes>"
      ]
     },
     "metadata": {},
     "output_type": "display_data"
    }
   ],
   "source": [
    "# plot samples and regression result\n",
    "plt.plot(x, y, 'o')\n",
    "plt.plot(xt, yt)\n",
    "print(sklearn.metrics.mean_squared_error(dataarrayy,predy))\n",
    "#print(\"mean squared error: %.2f\" % mean squared error(dataarrayy,y))\n",
    "\n",
    "plt.show()"
   ]
  },
  {
   "cell_type": "code",
   "execution_count": 14,
   "metadata": {},
   "outputs": [
    {
     "name": "stdout",
     "output_type": "stream",
     "text": [
      "[[6.02458272]]\n",
      "[-0.46632134]\n"
     ]
    }
   ],
   "source": [
    "print(regr.coef_)\n",
    "print(regr.intercept_)"
   ]
  },
  {
   "cell_type": "code",
   "execution_count": null,
   "metadata": {},
   "outputs": [],
   "source": []
  }
 ],
 "metadata": {
  "kernelspec": {
   "display_name": "Python 3",
   "language": "python",
   "name": "python3"
  }
 },
 "nbformat": 4,
 "nbformat_minor": 2
}
