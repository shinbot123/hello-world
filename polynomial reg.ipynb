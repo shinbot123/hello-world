{
 "cells": [
  {
   "cell_type": "code",
   "execution_count": 13,
   "metadata": {},
   "outputs": [],
   "source": [
    "import ms.version\n",
    "\n",
    "ms.version.addpkg('numpy', '1.14.2')\n",
    "ms.version.addpkg('pandas', '0.22.0')\n",
    "ms.version.addpkg('dateutil', '2.7.2')\n",
    "ms.version.addpkg('six', '1.11.0-ms1')\n",
    "ms.version.addpkg('pytz', '2017.3')\n",
    "ms.version.addpkg('matplotlib', '2.2.2')\n",
    "ms.version.addpkg('pyparsing', '2.2.0')\n",
    "ms.version.addpkg('cycler', '0.10.0')\n",
    "ms.version.addpkg('kiwisolver', '1.0.1')\n",
    "ms.version.addpkg('scipy', '1.0.0')\n",
    "ms.version.addpkg('sklearn', '0.19b2')\n"
   ]
  },
  {
   "cell_type": "code",
   "execution_count": 14,
   "metadata": {},
   "outputs": [],
   "source": [
    "import numpy as np\n",
    "import matplotlib.pyplot as plt\n",
    "from sklearn.linear_model import LinearRegression\n",
    "from sklearn.preprocessing import PolynomialFeatures\n",
    "from sklearn.pipeline import Pipeline"
   ]
  },
  {
   "cell_type": "code",
   "execution_count": 27,
   "metadata": {},
   "outputs": [],
   "source": [
    "# create samples\n",
    "sample_size = 30\n",
    "err_sigma = 3.5\n",
    "x = 10*np.random.rand(sample_size, 1)\n",
    "err = err_sigma*np.random.randn(sample_size, 1)\n",
    "y = -0.3 * x*x + 1 + err"
   ]
  },
  {
   "cell_type": "code",
   "execution_count": 28,
   "metadata": {},
   "outputs": [
    {
     "data": {
      "text/plain": [
       "Pipeline(memory=None,\n",
       "     steps=[('poly', PolynomialFeatures(degree=2, include_bias=True, interaction_only=False)), ('linear', LinearRegression(copy_X=True, fit_intercept=True, n_jobs=1, normalize=False))])"
      ]
     },
     "execution_count": 28,
     "metadata": {},
     "output_type": "execute_result"
    }
   ],
   "source": [
    "# train a linear regression model\n",
    "regr = Pipeline([('poly', PolynomialFeatures(degree=2)),('linear', LinearRegression())])\n",
    "regr.fit(x, y)"
   ]
  },
  {
   "cell_type": "code",
   "execution_count": 29,
   "metadata": {},
   "outputs": [],
   "source": [
    "xt = np.linspace(0.0, 10.0, num=1000).reshape((1000,1))\n",
    "yt = regr.predict(xt)"
   ]
  },
  {
   "cell_type": "code",
   "execution_count": 30,
   "metadata": {},
   "outputs": [
    {
     "data": {
      "image/png": "[encoded data removed]",
      "text/plain": [
       "<Figure size 432x288 with 1 Axes>"
      ]
     },
     "metadata": {},
     "output_type": "display_data"
    }
   ],
   "source": [
    "# plot samples and regression result\n",
    "plt.plot(x, y, 'o')\n",
    "plt.plot(xt, yt)\n",
    "plt.show()"
   ]
  },
  {
   "cell_type": "code",
   "execution_count": null,
   "metadata": {},
   "outputs": [],
   "source": []
  }
 ],
 "metadata": {
  "kernelspec": {
   "display_name": "Python 3",
   "language": "python",
   "name": "python3"
  },
  "language_info": {
   "codemirror_mode": {
    "name": "ipython",
    "version": 3
   },
   "file_extension": ".py",
   "mimetype": "text/x-python",
   "name": "python",
   "nbconvert_exporter": "python",
   "pygments_lexer": "ipython3",
   "version": "3.4.4"
  }
 },
 "nbformat": 4,
 "nbformat_minor": 2
}
