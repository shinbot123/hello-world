{
 "cells": [
  {
   "cell_type": "code",
   "execution_count": 126,
   "metadata": {},
   "outputs": [],
   "source": [
    "import ms.version\n",
    "\n",
    "ms.version.addpkg('numpy', '1.14.2')\n",
    "ms.version.addpkg('pandas', '0.22.0')\n",
    "ms.version.addpkg('dateutil', '2.7.2')\n",
    "ms.version.addpkg('six', '1.11.0-ms1')\n",
    "ms.version.addpkg('pytz', '2017.3')\n",
    "ms.version.addpkg('matplotlib', '2.2.2')\n",
    "ms.version.addpkg('pyparsing', '2.2.0')\n",
    "ms.version.addpkg('cycler', '0.10.0')\n",
    "ms.version.addpkg('kiwisolver', '1.0.1')\n",
    "ms.version.addpkg('scipy', '1.0.0')\n",
    "ms.version.addpkg('sklearn', '0.19b2')\n"
   ]
  },
  {
   "cell_type": "code",
   "execution_count": 162,
   "metadata": {},
   "outputs": [
    {
     "name": "stdout",
     "output_type": "stream",
     "text": [
      "(200, 3)\n",
      "(200, 1)\n"
     ]
    }
   ],
   "source": [
    "import numpy as np\n",
    "import matplotlib.pyplot as plt\n",
    "from sklearn.linear_model import LinearRegression\n",
    "import sklearn\n",
    "import csv\n",
    "import pandas as pd\n",
    "from sklearn.preprocessing import PolynomialFeatures\n",
    "from sklearn.pipeline import Pipeline\n",
    "dataarrayx = pd.read_csv(\"datax3.csv\").values.tolist()\n",
    "dataarrayy = pd.read_csv(\"datay3.csv\").values.tolist()\n",
    "print(np.shape(dataarrayx))\n",
    "print(np.shape(dataarrayy))"
   ]
  },
  {
   "cell_type": "code",
   "execution_count": 163,
   "metadata": {},
   "outputs": [
    {
     "name": "stdout",
     "output_type": "stream",
     "text": [
      "[[0 1 2]\n",
      " [3 4 5]\n",
      " [6 7 8]]\n"
     ]
    },
    {
     "data": {
      "text/plain": [
       "array([[ 1.,  0.,  1.,  2.,  0.,  0.,  0.,  1.,  2.,  4.],\n",
       "       [ 1.,  3.,  4.,  5.,  9., 12., 15., 16., 20., 25.],\n",
       "       [ 1.,  6.,  7.,  8., 36., 42., 48., 49., 56., 64.]])"
      ]
     },
     "execution_count": 163,
     "metadata": {},
     "output_type": "execute_result"
    }
   ],
   "source": [
    "XX = np.arange(9).reshape(-1, 3)\n",
    "print(XX)\n",
    "poly = PolynomialFeatures(2)\n",
    "poly.fit_transform(XX)"
   ]
  },
  {
   "cell_type": "code",
   "execution_count": 170,
   "metadata": {},
   "outputs": [
    {
     "name": "stdout",
     "output_type": "stream",
     "text": [
      "[[0 1 2]\n",
      " [3 4 5]\n",
      " [6 7 8]]\n",
      "StandardScaler(copy=True, with_mean=True, with_std=True)\n",
      "[[-1.22474487 -1.22474487 -1.22474487]\n",
      " [ 0.          0.          0.        ]\n",
      " [ 1.22474487  1.22474487  1.22474487]]\n"
     ]
    },
    {
     "name": "stderr",
     "output_type": "stream",
     "text": [
      "\\\\ms\\dist\\python\\PROJ\\sklearn\\0.19b2-py34\\exec\\lib\\sklearn\\utils\\validation.py:444: DataConversionWarning: Data with input dtype int32 was converted to float64 by StandardScaler.\n",
      "  warnings.warn(msg, DataConversionWarning)\n",
      "\\\\ms\\dist\\python\\PROJ\\sklearn\\0.19b2-py34\\exec\\lib\\sklearn\\utils\\validation.py:444: DataConversionWarning: Data with input dtype int32 was converted to float64 by StandardScaler.\n",
      "  warnings.warn(msg, DataConversionWarning)\n"
     ]
    },
    {
     "data": {
      "text/plain": [
       "array([[0., 1., 2.],\n",
       "       [3., 4., 5.],\n",
       "       [6., 7., 8.]])"
      ]
     },
     "execution_count": 170,
     "metadata": {},
     "output_type": "execute_result"
    }
   ],
   "source": [
    "XX = np.arange(9).reshape(-1, 3)\n",
    "print(XX)\n",
    "scaler= sklearn.preprocessing.StandardScaler()\n",
    "print(scaler.fit(XX))\n",
    "a=scaler.transform(XX)\n",
    "print(a)\n",
    "scaler.get_params()\n",
    "scaler.inverse_transform(a)"
   ]
  },
  {
   "cell_type": "code",
   "execution_count": 129,
   "metadata": {},
   "outputs": [
    {
     "data": {
      "text/plain": [
       "LinearRegression(copy_X=True, fit_intercept=True, n_jobs=1, normalize=False)"
      ]
     },
     "execution_count": 129,
     "metadata": {},
     "output_type": "execute_result"
    }
   ],
   "source": [
    "from sklearn.linear_model import LinearRegression\n",
    " # create samples\n",
    "# train a linear regression model\n",
    "regr = LinearRegression()\n",
    "regr.fit(dataarrayx, dataarrayy)\n"
   ]
  },
  {
   "cell_type": "code",
   "execution_count": 134,
   "metadata": {},
   "outputs": [],
   "source": [
    "x = dataarrayx\n",
    "y = dataarrayy\n",
    "\n",
    "# make predictions\n",
    "#xt = np.linspace(0.0, 1.0, num=1000).reshape((1000, 1))\n",
    "#yt = regr.predict(xt)\n",
    "predy = regr.predict(x)"
   ]
  },
  {
   "cell_type": "code",
   "execution_count": 149,
   "metadata": {},
   "outputs": [
    {
     "name": "stdout",
     "output_type": "stream",
     "text": [
      "0.3628037513683081\n"
     ]
    },
    {
     "data": {
      "image/png": "[encoded data removed]",
      "text/plain": [
       "<Figure size 432x288 with 1 Axes>"
      ]
     },
     "metadata": {},
     "output_type": "display_data"
    }
   ],
   "source": [
    "# plot samples and regression result\n",
    "plt.plot(x, y, 'o')\n",
    "plt.plot(xt, yt)\n",
    "print(sklearn.metrics.mean_squared_error(dataarrayy,predy))\n",
    "#print(\"mean squared error: %.2f\" % mean squared error(dataarrayy,y))\n",
    "\n",
    "plt.show()"
   ]
  },
  {
   "cell_type": "code",
   "execution_count": 133,
   "metadata": {},
   "outputs": [
    {
     "name": "stdout",
     "output_type": "stream",
     "text": [
      "[[-2.10356429  5.0485417   3.00723591]]\n",
      "[3.19988236]\n"
     ]
    }
   ],
   "source": [
    "print(regr.coef_)\n",
    "print(regr.intercept_)"
   ]
  },
  {
   "cell_type": "code",
   "execution_count": null,
   "metadata": {},
   "outputs": [],
   "source": []
  }
 ],
 "metadata": {
  "kernelspec": {
   "display_name": "Python 3",
   "language": "python",
   "name": "python3"
  },
  "language_info": {
   "codemirror_mode": {
    "name": "ipython",
    "version": 3
   },
   "file_extension": ".py",
   "mimetype": "text/x-python",
   "name": "python",
   "nbconvert_exporter": "python",
   "pygments_lexer": "ipython3",
   "version": "3.4.4"
  }
 },
 "nbformat": 4,
 "nbformat_minor": 2
}
