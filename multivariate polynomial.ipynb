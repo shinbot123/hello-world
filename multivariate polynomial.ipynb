{
 "cells": [
  {
   "cell_type": "code",
   "execution_count": 239,
   "metadata": {},
   "outputs": [],
   "source": [
    "import ms.version\n",
    "ms.version.addpkg('numpy', '1.14.2')\n",
    "ms.version.addpkg('pandas', '0.22.0')\n",
    "ms.version.addpkg('dateutil', '2.7.2')\n",
    "ms.version.addpkg('six', '1.11.0-ms1')\n",
    "ms.version.addpkg('pytz', '2017.3')\n",
    "ms.version.addpkg('matplotlib', '2.2.2')\n",
    "ms.version.addpkg('pyparsing', '2.2.0')\n",
    "ms.version.addpkg('cycler', '0.10.0')\n",
    "ms.version.addpkg('kiwisolver', '1.0.1')\n",
    "ms.version.addpkg('scipy', '1.0.0')\n",
    "ms.version.addpkg('sklearn', '0.19b2')\n"
   ]
  },
  {
   "cell_type": "code",
   "execution_count": 243,
   "metadata": {},
   "outputs": [
    {
     "name": "stdout",
     "output_type": "stream",
     "text": [
      "(500, 3)\n",
      "(500, 1)\n"
     ]
    }
   ],
   "source": [
    "import numpy as np\n",
    "import csv\n",
    "import pandas as pd\n",
    "import matplotlib.pyplot as plt\n",
    "import sklearn\n",
    "from sklearn import linear_model\n",
    "from sklearn.linear_model import LinearRegression\n",
    "from sklearn.preprocessing import PolynomialFeatures\n",
    "from sklearn.pipeline import Pipeline\n",
    "dataarrayx = pd.read_csv(\"datax3poly.csv\").values.tolist()\n",
    "dataarrayy = pd.read_csv(\"datay3poly.csv\").values.tolist()\n",
    "print(np.shape(dataarrayx))\n",
    "print(np.shape(dataarrayy))\n",
    "#print(dataarrayy)"
   ]
  },
  {
   "cell_type": "code",
   "execution_count": 279,
   "metadata": {},
   "outputs": [
    {
     "name": "stdout",
     "output_type": "stream",
     "text": [
      "0.31032801205615074\n"
     ]
    }
   ],
   "source": [
    "#deg = [1,3,6]\n",
    "#for d in deg:\n",
    "regrpoly = Pipeline([('poly', PolynomialFeatures(degree=2)),('linear', LinearRegression())])\n",
    "regrpoly.fit(dataarrayx, dataarrayy)\n",
    "\n",
    "predy = regrpoly.predict(dataarrayx)\n",
    "print(sklearn.metrics.mean_squared_error(dataarrayy,predy))\n"
   ]
  },
  {
   "cell_type": "code",
   "execution_count": 281,
   "metadata": {},
   "outputs": [
    {
     "name": "stdout",
     "output_type": "stream",
     "text": [
      "[[ 0.         -0.01835764 -0.27690425  0.26498952 -1.02430322  0.30353541\n",
      "   3.03193538  5.05146575  0.13774791  0.02116398]]\n",
      "0.31032801205615124\n",
      "[1.712752]\n"
     ]
    }
   ],
   "source": [
    "regr = LinearRegression(fit_intercept=True, normalize=True)\n",
    "poly = PolynomialFeatures(2)\n",
    "polyx = poly.fit_transform(dataarrayx)\n",
    "\n",
    "regr.fit(polyx, dataarrayy)\n",
    "predy = regr.predict(polyx)\n",
    "print(regr.coef_)\n",
    "print(sklearn.metrics.mean_squared_error(dataarrayy,predy))\n",
    "print(regr.intercept_)"
   ]
  },
  {
   "cell_type": "code",
   "execution_count": 282,
   "metadata": {},
   "outputs": [
    {
     "name": "stdout",
     "output_type": "stream",
     "text": [
      "StandardScaler(copy=True, with_mean=True, with_std=True)\n",
      "[[ 0.00000000e+00 -5.20155806e-03 -1.59700666e-01  1.56477344e-01\n",
      "  -3.00834922e-01  2.71611374e-01  2.74428522e+00  1.76424238e+01\n",
      "   3.43945208e-01  7.49013182e-02]]\n",
      "0.31032801205615124\n",
      "[53.10527619]\n"
     ]
    }
   ],
   "source": [
    "regr = LinearRegression(fit_intercept=True, normalize=True)\n",
    "poly = PolynomialFeatures(2)\n",
    "polyx = poly.fit_transform(dataarrayx)\n",
    "#print(polyx)\n",
    "scaler= sklearn.preprocessing.StandardScaler()\n",
    "print(scaler.fit(polyx))\n",
    "polyxscaled = scaler.transform(polyx)\n",
    "#print(a)\n",
    "regr.fit(polyxscaled, dataarrayy)\n",
    "predy = regr.predict(polyxscaled)\n",
    "print(regr.coef_)\n",
    "print(sklearn.metrics.mean_squared_error(dataarrayy,predy))\n",
    "print(regr.intercept_)\n"
   ]
  },
  {
   "cell_type": "code",
   "execution_count": 290,
   "metadata": {},
   "outputs": [
    {
     "name": "stdout",
     "output_type": "stream",
     "text": [
      "[[ 0.00000000e+00  1.31312660e-03 -1.99094983e+00  1.50903195e-01\n",
      "  -2.68994370e-01  2.73611635e-01  2.69424684e+00  1.57818209e+01\n",
      "   3.14695455e-01  7.92508151e-02]]\n",
      "[53.10527619]\n",
      "0.33619831485854024\n"
     ]
    }
   ],
   "source": [
    "ridge = linear_model.Ridge (alpha = 0.5)\n",
    "ridge.fit(polyxscaled, dataarrayy)\n",
    "predy = ridge.predict(polyxscaled)\n",
    "\n",
    "print(ridge.coef_)\n",
    "print(ridge.intercept_)\n",
    "print(sklearn.metrics.mean_squared_error(dataarrayy,predy))"
   ]
  },
  {
   "cell_type": "code",
   "execution_count": 128,
   "metadata": {},
   "outputs": [],
   "source": [
    "\n",
    "from math import sin\n",
    "# create samples\n",
    "sample_size = 100\n",
    "err_sigma = 0.1\n",
    "x = 12*np.random.rand(sample_size, 1)\n",
    "err = err_sigma*np.random.randn(sample_size, 1)\n",
    "func = np.vectorize(sin)\n",
    "y = func(x) + err"
   ]
  },
  {
   "cell_type": "code",
   "execution_count": 122,
   "metadata": {},
   "outputs": [],
   "source": [
    "#a = np.random.rand(sample_size, 1)\n",
    "#b = np.random.rand(sample_size, 2)\n",
    "#print(b)\n",
    "#plt.plot(a, b, 'o')"
   ]
  },
  {
   "cell_type": "code",
   "execution_count": 129,
   "metadata": {},
   "outputs": [
    {
     "data": {
      "text/plain": [
       "[<matplotlib.lines.Line2D at 0xdf50b70>]"
      ]
     },
     "execution_count": 129,
     "metadata": {},
     "output_type": "execute_result"
    },
    {
     "data": {
      "image/png": "[encoded data removed]",
      "text/plain": [
       "<Figure size 432x288 with 1 Axes>"
      ]
     },
     "metadata": {},
     "output_type": "display_data"
    }
   ],
   "source": [
    "# plot train data\n",
    "plt.plot(x, y, 'o')"
   ]
  },
  {
   "cell_type": "code",
   "execution_count": 130,
   "metadata": {},
   "outputs": [],
   "source": [
    "# train linear regression models with different polynomial basis\n",
    "deg = [1,3,6]"
   ]
  },
  {
   "cell_type": "code",
   "execution_count": 140,
   "metadata": {},
   "outputs": [
    {
     "data": {
      "image/png": "[encoded data removed]",
      "text/plain": [
       "<Figure size 432x288 with 1 Axes>"
      ]
     },
     "metadata": {},
     "output_type": "display_data"
    }
   ],
   "source": [
    "for d in deg:\n",
    "    regr = Pipeline([('poly', PolynomialFeatures(degree=d)),('linear', LinearRegression())])\n",
    "    regr.fit(x, y)\n",
    "    \n",
    "    # make predictions\n",
    "    xt = np.linspace(0.0, 12.0, num=1000).reshape((1000, 1))\n",
    "    yt = regr.predict(xt)\n",
    "    # plot regression result\n",
    "    plt.plot(xt, yt, label='polynomial of degree %d' % (d))\n",
    "    plt.plot(x, y, 'o')\n",
    "plt.legend()\n",
    "plt.show()"
   ]
  },
  {
   "cell_type": "code",
   "execution_count": 163,
   "metadata": {},
   "outputs": [
    {
     "ename": "AttributeError",
     "evalue": "'Pipeline' object has no attribute 'coef_'",
     "output_type": "error",
     "traceback": [
      "\u001b[1;31m---------------------------------------------------------------------------\u001b[0m",
      "\u001b[1;31mAttributeError\u001b[0m                            Traceback (most recent call last)",
      "\u001b[1;32m<ipython-input-163-33101a6006e8>\u001b[0m in \u001b[0;36m<module>\u001b[1;34m()\u001b[0m\n\u001b[1;32m----> 1\u001b[1;33m \u001b[0mprint\u001b[0m\u001b[1;33m(\u001b[0m\u001b[0mregr\u001b[0m\u001b[1;33m.\u001b[0m\u001b[0mcoef_\u001b[0m\u001b[1;33m)\u001b[0m\u001b[1;33m\u001b[0m\u001b[0m\n\u001b[0m",
      "\u001b[1;31mAttributeError\u001b[0m: 'Pipeline' object has no attribute 'coef_'"
     ]
    }
   ],
   "source": [
    "print(regr.coef_)"
   ]
  },
  {
   "cell_type": "code",
   "execution_count": null,
   "metadata": {},
   "outputs": [],
   "source": []
  },
  {
   "cell_type": "code",
   "execution_count": null,
   "metadata": {},
   "outputs": [],
   "source": []
  }
 ],
 "metadata": {
  "kernelspec": {
   "display_name": "Python 3",
   "language": "python",
   "name": "python3"
  },
  "language_info": {
   "codemirror_mode": {
    "name": "ipython",
    "version": 3
   },
   "file_extension": ".py",
   "mimetype": "text/x-python",
   "name": "python",
   "nbconvert_exporter": "python",
   "pygments_lexer": "ipython3",
   "version": "3.4.4"
  }
 },
 "nbformat": 4,
 "nbformat_minor": 2
}
